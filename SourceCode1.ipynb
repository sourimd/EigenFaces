{
 "metadata": {
  "name": "",
  "signature": "sha256:616e78cfbb5d11467d9b15f1245f11f22730a464bbe2ae8d1b31a12ebffbbdec"
 },
 "nbformat": 3,
 "nbformat_minor": 0,
 "worksheets": [
  {
   "cells": [
    {
     "cell_type": "code",
     "collapsed": false,
     "input": [
      "from scipy import misc\n",
      "import numpy\n",
      "from scipy import linalg as LA\n",
      "import matplotlib.pyplot as plt\n",
      "\n",
      "a = numpy.zeros((100, 50, 50))\n",
      "for i in range(1,101):\n",
      "    imageLocation = \"Training/subject\"+str(i)+\"_img1.pgm\"\n",
      "    #print imageLocation\n",
      "    a[i-1]=misc.imread(imageLocation)\n",
      "    # a is 100, 25x25 images\n",
      "#b will be 100x2500 images\n",
      "b = numpy.zeros((100, 2500))\n",
      "for l in range(0,100):\n",
      "    m=0\n",
      "    for j in range(0,50):\n",
      "        for k in range(0, 50):\n",
      "            b[l][m]=a[l][j][k]\n",
      "            m=m+1\n",
      "sum = numpy.zeros((1, 2500))\n",
      "for m in range(0,100):\n",
      "    sum = sum + b[m]\n",
      "avg = numpy.zeros((1, 2500))\n",
      "avg = sum/100\n",
      "#c will be 100x2500 images after deducting the averages\n",
      "c = numpy.zeros((100, 2500))\n",
      "for l in range(0,100):\n",
      "    c[l]=b[l]-avg\n",
      "A = c.transpose()\n",
      "L = numpy.zeros((100, 100))\n",
      "A = numpy.matrix(A)\n",
      "c = numpy.matrix(c)\n",
      "L = c*A\n",
      "e_vals, e_vecs = LA.eig(L)\n",
      "arr =  numpy.array(e_vals)\n",
      "arr.argsort()[-10:][::-1]\n",
      "#arr.argsort()\n",
      "V = e_vecs[0:100,0:10]\n",
      "U = A*V\n",
      "U=numpy.array(U)\n",
      "img = numpy.zeros((50, 50))\n",
      "#imageNo=0"
     ],
     "language": "python",
     "metadata": {},
     "outputs": []
    },
    {
     "cell_type": "code",
     "collapsed": false,
     "input": [
      "for imageNo in range(0,10):\n",
      "    row = -1\n",
      "    for correspondingPixel in range(0,2500):\n",
      "        if correspondingPixel%50 == 0:\n",
      "            row=row+1\n",
      "        img[row][correspondingPixel%50]=abs(U[0:2500,imageNo:imageNo+1][correspondingPixel][0]+avg[0][correspondingPixel])\n",
      "        #print str(row)+\" \"+str(correspondingPixel%50)\n",
      "    plt.imshow(img, cmap='gray', interpolation='nearest', vmin=0, vmax=255)\n",
      "    plt.savefig('suggested/'+str(imageNo+1)+'secondtry.png')"
     ],
     "language": "python",
     "metadata": {},
     "outputs": []
    }
   ],
   "metadata": {}
  }
 ]
}